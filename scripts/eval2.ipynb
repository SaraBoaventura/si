{
 "cells": [
  {
   "cell_type": "markdown",
   "metadata": {},
   "source": [
    "# Linear Regression"
   ]
  },
  {
   "cell_type": "code",
   "execution_count": 1,
   "metadata": {},
   "outputs": [],
   "source": [
    "import os\n",
    "os.chdir('C:\\\\Users\\\\35192\\\\Desktop\\\\si\\\\src')"
   ]
  },
  {
   "cell_type": "code",
   "execution_count": 2,
   "metadata": {},
   "outputs": [],
   "source": [
    "from si.data import Dataset\n",
    "from si.util.util import summary\n",
    "from si.util.scale import StandardScaler\n",
    "from si.supervised import linreg, logreg\n",
    "import numpy as np"
   ]
  },
  {
   "cell_type": "code",
   "execution_count": 3,
   "metadata": {},
   "outputs": [
    {
     "data": {
      "text/html": [
       "<div>\n",
       "<style scoped>\n",
       "    .dataframe tbody tr th:only-of-type {\n",
       "        vertical-align: middle;\n",
       "    }\n",
       "\n",
       "    .dataframe tbody tr th {\n",
       "        vertical-align: top;\n",
       "    }\n",
       "\n",
       "    .dataframe thead th {\n",
       "        text-align: right;\n",
       "    }\n",
       "</style>\n",
       "<table border=\"1\" class=\"dataframe\">\n",
       "  <thead>\n",
       "    <tr style=\"text-align: right;\">\n",
       "      <th></th>\n",
       "      <th>A</th>\n",
       "      <th>Y</th>\n",
       "    </tr>\n",
       "  </thead>\n",
       "  <tbody>\n",
       "    <tr>\n",
       "      <th>mean</th>\n",
       "      <td>2.987301e-16</td>\n",
       "      <td>5.839135</td>\n",
       "    </tr>\n",
       "    <tr>\n",
       "      <th>vars</th>\n",
       "      <td>1.000000e+00</td>\n",
       "      <td>30.049970</td>\n",
       "    </tr>\n",
       "    <tr>\n",
       "      <th>min</th>\n",
       "      <td>-8.137648e-01</td>\n",
       "      <td>-2.680700</td>\n",
       "    </tr>\n",
       "    <tr>\n",
       "      <th>max</th>\n",
       "      <td>3.647694e+00</td>\n",
       "      <td>24.147000</td>\n",
       "    </tr>\n",
       "  </tbody>\n",
       "</table>\n",
       "</div>"
      ],
      "text/plain": [
       "                 A          Y\n",
       "mean  2.987301e-16   5.839135\n",
       "vars  1.000000e+00  30.049970\n",
       "min  -8.137648e-01  -2.680700\n",
       "max   3.647694e+00  24.147000"
      ]
     },
     "execution_count": 3,
     "metadata": {},
     "output_type": "execute_result"
    }
   ],
   "source": [
    "DIR = os.path.dirname(os.path.realpath('.'))\n",
    "filename = os.path.join(DIR, 'datasets/lr-example1.data')\n",
    "dataset = Dataset.from_data(filename, labeled=True)\n",
    "StandardScaler().fit_transform(dataset,inline=True)\n",
    "summary(dataset)"
   ]
  },
  {
   "cell_type": "code",
   "execution_count": 4,
   "metadata": {},
   "outputs": [
    {
     "data": {
      "image/png": "[encoded data removed]",
      "text/plain": [
       "<Figure size 432x288 with 1 Axes>"
      ]
     },
     "metadata": {
      "needs_background": "light"
     },
     "output_type": "display_data"
    }
   ],
   "source": [
    "import matplotlib.pyplot as plt\n",
    "%matplotlib inline\n",
    "if dataset.X.shape[1]==1:\n",
    "    plt.scatter(dataset.X, dataset.Y)\n",
    "    plt.show()\n"
   ]
  },
  {
   "cell_type": "markdown",
   "metadata": {},
   "source": [
    "## Linear Regression using closed form "
   ]
  },
  {
   "cell_type": "code",
   "execution_count": 5,
   "metadata": {},
   "outputs": [
    {
     "name": "stdout",
     "output_type": "stream",
     "text": [
      "Theta =  [5.83913505 4.59304113]\n"
     ]
    }
   ],
   "source": [
    "lr = linreg.LinearRegression()\n",
    "lr.fit(dataset)\n",
    "print('Theta = ', lr.theta)"
   ]
  },
  {
   "cell_type": "code",
   "execution_count": 6,
   "metadata": {},
   "outputs": [
    {
     "name": "stdout",
     "output_type": "stream",
     "text": [
      "x =  [-0.63614904]\n",
      "y_pred =  2.9172763535616566\n",
      "y_true =  3.2522\n"
     ]
    }
   ],
   "source": [
    "idx = 10\n",
    "x = dataset.X[idx]\n",
    "print(\"x = \",x)\n",
    "y = dataset.Y[idx]\n",
    "y_pred = lr.predict(x)\n",
    "print(\"y_pred = \",y_pred)\n",
    "print(\"y_true = \", y)\n"
   ]
  },
  {
   "cell_type": "code",
   "execution_count": 7,
   "metadata": {},
   "outputs": [
    {
     "data": {
      "text/plain": [
       "4.476971375975178"
      ]
     },
     "execution_count": 7,
     "metadata": {},
     "output_type": "execute_result"
    }
   ],
   "source": [
    "lr.cost()"
   ]
  },
  {
   "cell_type": "code",
   "execution_count": 8,
   "metadata": {},
   "outputs": [
    {
     "data": {
      "image/png": "[encoded data removed]",
      "text/plain": [
       "<Figure size 432x288 with 1 Axes>"
      ]
     },
     "metadata": {
      "needs_background": "light"
     },
     "output_type": "display_data"
    }
   ],
   "source": [
    "if dataset.X.shape[1] == 1:\n",
    "    plt.scatter(dataset.X, dataset.Y)\n",
    "    plt.plot(lr.X[:,1], np.dot(lr.X, lr.theta), '-', color='red')\n",
    "    plt.show()\n"
   ]
  },
  {
   "cell_type": "markdown",
   "metadata": {},
   "source": [
    "## Linear Regression using gradient descent"
   ]
  },
  {
   "cell_type": "code",
   "execution_count": 9,
   "metadata": {},
   "outputs": [
    {
     "name": "stdout",
     "output_type": "stream",
     "text": [
      "Theta =  [5.83913505 4.59304113]\n"
     ]
    }
   ],
   "source": [
    "lr = linreg.LinearRegression(gd=True,epochs=50000)\n",
    "lr.fit(dataset)\n",
    "print('Theta = ', lr.theta)"
   ]
  },
  {
   "cell_type": "code",
   "execution_count": 10,
   "metadata": {},
   "outputs": [
    {
     "data": {
      "image/png": "[encoded data removed]",
      "text/plain": [
       "<Figure size 432x288 with 1 Axes>"
      ]
     },
     "metadata": {
      "needs_background": "light"
     },
     "output_type": "display_data"
    }
   ],
   "source": [
    "plt.plot(list(lr.history.keys()), [ y[1] for y in lr.history.values()], '-', color='red')\n",
    "plt.title('Cost')\n",
    "plt.show()"
   ]
  },
  {
   "cell_type": "markdown",
   "metadata": {},
   "source": [
    "# Linear Regression with Regularization"
   ]
  },
  {
   "cell_type": "code",
   "execution_count": 11,
   "metadata": {},
   "outputs": [
    {
     "name": "stdout",
     "output_type": "stream",
     "text": [
      "Theta =  [5.83913505 4.54617337]\n"
     ]
    }
   ],
   "source": [
    "lr = linreg.LinearRegressionReg()\n",
    "lr.fit(dataset)\n",
    "print('Theta = ', lr.theta)\n"
   ]
  },
  {
   "cell_type": "code",
   "execution_count": 12,
   "metadata": {},
   "outputs": [
    {
     "name": "stdout",
     "output_type": "stream",
     "text": [
      "x =  [-0.63614904]\n",
      "y_pred =  2.947091238234969\n",
      "y_true =  3.2522\n"
     ]
    }
   ],
   "source": [
    "idx = 10\n",
    "x = dataset.X[idx]\n",
    "print(\"x = \", x)\n",
    "y = dataset.Y[idx]\n",
    "y_pred = lr.predict(x)\n",
    "print(\"y_pred = \", y_pred)\n",
    "print(\"y_true = \", y)\n"
   ]
  },
  {
   "cell_type": "markdown",
   "metadata": {},
   "source": [
    "# Logistic Regression"
   ]
  },
  {
   "cell_type": "code",
   "execution_count": 13,
   "metadata": {},
   "outputs": [],
   "source": [
    "from si.supervised.logreg import LogisticRegression, LogisticRegressionReg\n",
    "import pandas as pd"
   ]
  },
  {
   "cell_type": "code",
   "execution_count": 14,
   "metadata": {},
   "outputs": [
    {
     "data": {
      "text/html": [
       "<div>\n",
       "<style scoped>\n",
       "    .dataframe tbody tr th:only-of-type {\n",
       "        vertical-align: middle;\n",
       "    }\n",
       "\n",
       "    .dataframe tbody tr th {\n",
       "        vertical-align: top;\n",
       "    }\n",
       "\n",
       "    .dataframe thead th {\n",
       "        text-align: right;\n",
       "    }\n",
       "</style>\n",
       "<table border=\"1\" class=\"dataframe\">\n",
       "  <thead>\n",
       "    <tr style=\"text-align: right;\">\n",
       "      <th></th>\n",
       "      <th>A</th>\n",
       "      <th>B</th>\n",
       "      <th>Y</th>\n",
       "    </tr>\n",
       "  </thead>\n",
       "  <tbody>\n",
       "    <tr>\n",
       "      <th>mean</th>\n",
       "      <td>5.843333</td>\n",
       "      <td>3.054000</td>\n",
       "      <td>0.666667</td>\n",
       "    </tr>\n",
       "    <tr>\n",
       "      <th>vars</th>\n",
       "      <td>0.681122</td>\n",
       "      <td>0.186751</td>\n",
       "      <td>0.222222</td>\n",
       "    </tr>\n",
       "    <tr>\n",
       "      <th>min</th>\n",
       "      <td>4.300000</td>\n",
       "      <td>2.000000</td>\n",
       "      <td>0.000000</td>\n",
       "    </tr>\n",
       "    <tr>\n",
       "      <th>max</th>\n",
       "      <td>7.900000</td>\n",
       "      <td>4.400000</td>\n",
       "      <td>1.000000</td>\n",
       "    </tr>\n",
       "  </tbody>\n",
       "</table>\n",
       "</div>"
      ],
      "text/plain": [
       "             A         B         Y\n",
       "mean  5.843333  3.054000  0.666667\n",
       "vars  0.681122  0.186751  0.222222\n",
       "min   4.300000  2.000000  0.000000\n",
       "max   7.900000  4.400000  1.000000"
      ]
     },
     "execution_count": 14,
     "metadata": {},
     "output_type": "execute_result"
    }
   ],
   "source": [
    "filename = os.path.join(DIR, 'datasets/iris.data')\n",
    "df = pd.read_csv(filename)\n",
    "iris = Dataset.from_dataframe(df,ylabel=\"class\")\n",
    "y = [int(x != 'Iris-setosa') for x in iris.Y]\n",
    "dataset = Dataset(iris.X[:,:2],np.array(y))\n",
    "summary(dataset)"
   ]
  },
  {
   "cell_type": "code",
   "execution_count": 15,
   "metadata": {},
   "outputs": [
    {
     "data": {
      "image/png": "[encoded data removed]",
      "text/plain": [
       "<Figure size 432x288 with 1 Axes>"
      ]
     },
     "metadata": {
      "needs_background": "light"
     },
     "output_type": "display_data"
    }
   ],
   "source": [
    "plt.scatter(dataset.X[:,0], dataset.X[:,1],c=dataset.Y)\n",
    "plt.show()"
   ]
  },
  {
   "cell_type": "code",
   "execution_count": 16,
   "metadata": {},
   "outputs": [],
   "source": [
    "logreg = LogisticRegression(epochs=20000)"
   ]
  },
  {
   "cell_type": "code",
   "execution_count": 17,
   "metadata": {},
   "outputs": [
    {
     "data": {
      "text/plain": [
       "array([-0.30425044,  1.41730047, -2.25671188])"
      ]
     },
     "execution_count": 17,
     "metadata": {},
     "output_type": "execute_result"
    }
   ],
   "source": [
    "logreg.fit(dataset)\n",
    "logreg.theta"
   ]
  },
  {
   "cell_type": "code",
   "execution_count": 18,
   "metadata": {},
   "outputs": [
    {
     "data": {
      "image/png": "[encoded data removed]",
      "text/plain": [
       "<Figure size 432x288 with 1 Axes>"
      ]
     },
     "metadata": {
      "needs_background": "light"
     },
     "output_type": "display_data"
    }
   ],
   "source": [
    "plt.scatter(dataset.X[:,0], dataset.X[:,1],c=dataset.Y)\n",
    "_x = np.linspace(min(dataset.X[:,0]),max(dataset.X[:,0]),2)\n",
    "_y = [(-logreg.theta[0]-logreg.theta[1]*x)/logreg.theta[2] for x in _x]\n",
    "plt.plot(_x, _y, '-', color='red')\n",
    "plt.show()"
   ]
  },
  {
   "cell_type": "code",
   "execution_count": 19,
   "metadata": {},
   "outputs": [
    {
     "data": {
      "image/png": "[encoded data removed]",
      "text/plain": [
       "<Figure size 432x288 with 1 Axes>"
      ]
     },
     "metadata": {
      "needs_background": "light"
     },
     "output_type": "display_data"
    }
   ],
   "source": [
    "plt.plot(list(logreg.history.keys()), [ y[1] for y in logreg.history.values()], '-', color='red')\n",
    "plt.title('Cost')\n",
    "plt.show()"
   ]
  },
  {
   "cell_type": "code",
   "execution_count": 20,
   "metadata": {},
   "outputs": [
    {
     "name": "stdout",
     "output_type": "stream",
     "text": [
      "Pred. example: 1\n"
     ]
    }
   ],
   "source": [
    "ex = np.array([5.5, 2])\n",
    "print(\"Pred. example:\", logreg.predict(ex))\n"
   ]
  },
  {
   "cell_type": "markdown",
   "metadata": {},
   "source": [
    "# Logistic Regression with L2 regularization"
   ]
  },
  {
   "cell_type": "code",
   "execution_count": 21,
   "metadata": {},
   "outputs": [
    {
     "data": {
      "text/plain": [
       "array([-0.88465655,  2.34501229, -3.72252587])"
      ]
     },
     "execution_count": 21,
     "metadata": {},
     "output_type": "execute_result"
    }
   ],
   "source": [
    "logreg = LogisticRegressionReg()\n",
    "logreg.fit(dataset)\n",
    "logreg.theta"
   ]
  },
  {
   "cell_type": "code",
   "execution_count": 22,
   "metadata": {},
   "outputs": [
    {
     "data": {
      "image/png": "[encoded data removed]",
      "text/plain": [
       "<Figure size 432x288 with 1 Axes>"
      ]
     },
     "metadata": {
      "needs_background": "light"
     },
     "output_type": "display_data"
    }
   ],
   "source": [
    "plt.scatter(dataset.X[:,0], dataset.X[:,1],c=dataset.Y)\n",
    "_x = np.linspace(min(dataset.X[:,0]),max(dataset.X[:,0]),2)\n",
    "_y = [(-logreg.theta[0]-logreg.theta[1]*x)/logreg.theta[2] for x in _x]\n",
    "plt.plot(_x, _y, '-', color='red')\n",
    "plt.show()"
   ]
  },
  {
   "cell_type": "code",
   "execution_count": 23,
   "metadata": {},
   "outputs": [
    {
     "name": "stdout",
     "output_type": "stream",
     "text": [
      "Pred. example: 1\n"
     ]
    }
   ],
   "source": [
    "ex = np.array([5.5, 2])\n",
    "print(\"Pred. example:\", logreg.predict(ex))\n"
   ]
  },
  {
   "cell_type": "markdown",
   "metadata": {},
   "source": [
    "# Cross-validation"
   ]
  },
  {
   "cell_type": "code",
   "execution_count": 24,
   "metadata": {},
   "outputs": [],
   "source": [
    "from si.util.cv import CrossValidation"
   ]
  },
  {
   "cell_type": "code",
   "execution_count": 25,
   "metadata": {},
   "outputs": [
    {
     "data": {
      "text/html": [
       "<div>\n",
       "<style scoped>\n",
       "    .dataframe tbody tr th:only-of-type {\n",
       "        vertical-align: middle;\n",
       "    }\n",
       "\n",
       "    .dataframe tbody tr th {\n",
       "        vertical-align: top;\n",
       "    }\n",
       "\n",
       "    .dataframe thead th {\n",
       "        text-align: right;\n",
       "    }\n",
       "</style>\n",
       "<table border=\"1\" class=\"dataframe\">\n",
       "  <thead>\n",
       "    <tr style=\"text-align: right;\">\n",
       "      <th></th>\n",
       "      <th>Train Scores</th>\n",
       "      <th>Test Scores</th>\n",
       "    </tr>\n",
       "  </thead>\n",
       "  <tbody>\n",
       "    <tr>\n",
       "      <th>0</th>\n",
       "      <td>0.574412</td>\n",
       "      <td>0.524114</td>\n",
       "    </tr>\n",
       "    <tr>\n",
       "      <th>1</th>\n",
       "      <td>0.570025</td>\n",
       "      <td>0.546744</td>\n",
       "    </tr>\n",
       "    <tr>\n",
       "      <th>2</th>\n",
       "      <td>0.567922</td>\n",
       "      <td>0.560155</td>\n",
       "    </tr>\n",
       "    <tr>\n",
       "      <th>3</th>\n",
       "      <td>0.553521</td>\n",
       "      <td>0.622241</td>\n",
       "    </tr>\n",
       "    <tr>\n",
       "      <th>4</th>\n",
       "      <td>0.549605</td>\n",
       "      <td>0.654368</td>\n",
       "    </tr>\n",
       "  </tbody>\n",
       "</table>\n",
       "</div>"
      ],
      "text/plain": [
       "   Train Scores  Test Scores\n",
       "0      0.574412     0.524114\n",
       "1      0.570025     0.546744\n",
       "2      0.567922     0.560155\n",
       "3      0.553521     0.622241\n",
       "4      0.549605     0.654368"
      ]
     },
     "execution_count": 25,
     "metadata": {},
     "output_type": "execute_result"
    }
   ],
   "source": [
    "logreg = LogisticRegression(epochs=1000)\n",
    "cv = CrossValidation(logreg,dataset,cv=5)\n",
    "cv.run()\n",
    "cv.toDataframe()"
   ]
  },
  {
   "cell_type": "code",
   "execution_count": 26,
   "metadata": {},
   "outputs": [
    {
     "data": {
      "text/html": [
       "<div>\n",
       "<style scoped>\n",
       "    .dataframe tbody tr th:only-of-type {\n",
       "        vertical-align: middle;\n",
       "    }\n",
       "\n",
       "    .dataframe tbody tr th {\n",
       "        vertical-align: top;\n",
       "    }\n",
       "\n",
       "    .dataframe thead th {\n",
       "        text-align: right;\n",
       "    }\n",
       "</style>\n",
       "<table border=\"1\" class=\"dataframe\">\n",
       "  <thead>\n",
       "    <tr style=\"text-align: right;\">\n",
       "      <th></th>\n",
       "      <th>Train Scores</th>\n",
       "      <th>Test Scores</th>\n",
       "    </tr>\n",
       "  </thead>\n",
       "  <tbody>\n",
       "    <tr>\n",
       "      <th>0</th>\n",
       "      <td>0.177344</td>\n",
       "      <td>0.263628</td>\n",
       "    </tr>\n",
       "    <tr>\n",
       "      <th>1</th>\n",
       "      <td>0.177137</td>\n",
       "      <td>0.265435</td>\n",
       "    </tr>\n",
       "    <tr>\n",
       "      <th>2</th>\n",
       "      <td>0.177031</td>\n",
       "      <td>0.260860</td>\n",
       "    </tr>\n",
       "    <tr>\n",
       "      <th>3</th>\n",
       "      <td>0.178797</td>\n",
       "      <td>0.252300</td>\n",
       "    </tr>\n",
       "  </tbody>\n",
       "</table>\n",
       "</div>"
      ],
      "text/plain": [
       "   Train Scores  Test Scores\n",
       "0      0.177344     0.263628\n",
       "1      0.177137     0.265435\n",
       "2      0.177031     0.260860\n",
       "3      0.178797     0.252300"
      ]
     },
     "execution_count": 26,
     "metadata": {},
     "output_type": "execute_result"
    }
   ],
   "source": [
    "logreg = LogisticRegressionReg(epochs=500, lbd=0.5)\n",
    "cv = CrossValidation(logreg, dataset, cv=4)\n",
    "cv.run()\n",
    "cv.toDataframe()"
   ]
  },
  {
   "cell_type": "markdown",
   "metadata": {},
   "source": [
    "# Grid Search with Cross-Validation"
   ]
  },
  {
   "cell_type": "code",
   "execution_count": 27,
   "metadata": {},
   "outputs": [],
   "source": [
    "from si.util.cv import GridSearchCV"
   ]
  },
  {
   "cell_type": "code",
   "execution_count": 28,
   "metadata": {},
   "outputs": [],
   "source": [
    "parameters ={'epochs':[100,200,400,800,1000],'lbd':[0,0.2,0.4,0.6]}\n",
    "gs = GridSearchCV(logreg, dataset, parameters, cv=3, split=0.8)\n",
    "gs.run()\n",
    "df = gs.toDataframe()"
   ]
  },
  {
   "cell_type": "code",
   "execution_count": 29,
   "metadata": {},
   "outputs": [
    {
     "data": {
      "text/html": [
       "<div>\n",
       "<style scoped>\n",
       "    .dataframe tbody tr th:only-of-type {\n",
       "        vertical-align: middle;\n",
       "    }\n",
       "\n",
       "    .dataframe tbody tr th {\n",
       "        vertical-align: top;\n",
       "    }\n",
       "\n",
       "    .dataframe thead th {\n",
       "        text-align: right;\n",
       "    }\n",
       "</style>\n",
       "<table border=\"1\" class=\"dataframe\">\n",
       "  <thead>\n",
       "    <tr style=\"text-align: right;\">\n",
       "      <th></th>\n",
       "      <th>epochs</th>\n",
       "      <th>lbd</th>\n",
       "      <th>Train1</th>\n",
       "      <th>Test1</th>\n",
       "      <th>Train2</th>\n",
       "      <th>Test2</th>\n",
       "      <th>Train3</th>\n",
       "      <th>Test3</th>\n",
       "    </tr>\n",
       "  </thead>\n",
       "  <tbody>\n",
       "    <tr>\n",
       "      <th>16</th>\n",
       "      <td>1000</td>\n",
       "      <td>0.0</td>\n",
       "      <td>0.067959</td>\n",
       "      <td>0.155180</td>\n",
       "      <td>0.075598</td>\n",
       "      <td>0.116720</td>\n",
       "      <td>0.090206</td>\n",
       "      <td>0.074216</td>\n",
       "    </tr>\n",
       "    <tr>\n",
       "      <th>12</th>\n",
       "      <td>800</td>\n",
       "      <td>0.0</td>\n",
       "      <td>0.100081</td>\n",
       "      <td>0.086148</td>\n",
       "      <td>0.106082</td>\n",
       "      <td>0.065542</td>\n",
       "      <td>0.088386</td>\n",
       "      <td>0.141532</td>\n",
       "    </tr>\n",
       "    <tr>\n",
       "      <th>17</th>\n",
       "      <td>1000</td>\n",
       "      <td>0.2</td>\n",
       "      <td>0.121054</td>\n",
       "      <td>0.177207</td>\n",
       "      <td>0.122764</td>\n",
       "      <td>0.167385</td>\n",
       "      <td>0.118023</td>\n",
       "      <td>0.196660</td>\n",
       "    </tr>\n",
       "    <tr>\n",
       "      <th>13</th>\n",
       "      <td>800</td>\n",
       "      <td>0.2</td>\n",
       "      <td>0.128305</td>\n",
       "      <td>0.175486</td>\n",
       "      <td>0.105694</td>\n",
       "      <td>0.269259</td>\n",
       "      <td>0.133266</td>\n",
       "      <td>0.155003</td>\n",
       "    </tr>\n",
       "    <tr>\n",
       "      <th>14</th>\n",
       "      <td>800</td>\n",
       "      <td>0.4</td>\n",
       "      <td>0.141451</td>\n",
       "      <td>0.292360</td>\n",
       "      <td>0.147427</td>\n",
       "      <td>0.269860</td>\n",
       "      <td>0.147616</td>\n",
       "      <td>0.264293</td>\n",
       "    </tr>\n",
       "    <tr>\n",
       "      <th>18</th>\n",
       "      <td>1000</td>\n",
       "      <td>0.4</td>\n",
       "      <td>0.143002</td>\n",
       "      <td>0.272988</td>\n",
       "      <td>0.142686</td>\n",
       "      <td>0.277679</td>\n",
       "      <td>0.132157</td>\n",
       "      <td>0.326441</td>\n",
       "    </tr>\n",
       "    <tr>\n",
       "      <th>8</th>\n",
       "      <td>400</td>\n",
       "      <td>0.0</td>\n",
       "      <td>0.149165</td>\n",
       "      <td>0.151839</td>\n",
       "      <td>0.141710</td>\n",
       "      <td>0.156632</td>\n",
       "      <td>0.148623</td>\n",
       "      <td>0.178536</td>\n",
       "    </tr>\n",
       "    <tr>\n",
       "      <th>15</th>\n",
       "      <td>800</td>\n",
       "      <td>0.6</td>\n",
       "      <td>0.167343</td>\n",
       "      <td>0.328322</td>\n",
       "      <td>0.173400</td>\n",
       "      <td>0.303268</td>\n",
       "      <td>0.164007</td>\n",
       "      <td>0.346370</td>\n",
       "    </tr>\n",
       "    <tr>\n",
       "      <th>9</th>\n",
       "      <td>400</td>\n",
       "      <td>0.2</td>\n",
       "      <td>0.169321</td>\n",
       "      <td>0.175571</td>\n",
       "      <td>0.169900</td>\n",
       "      <td>0.187782</td>\n",
       "      <td>0.172622</td>\n",
       "      <td>0.172421</td>\n",
       "    </tr>\n",
       "    <tr>\n",
       "      <th>19</th>\n",
       "      <td>1000</td>\n",
       "      <td>0.6</td>\n",
       "      <td>0.170191</td>\n",
       "      <td>0.319979</td>\n",
       "      <td>0.165676</td>\n",
       "      <td>0.339699</td>\n",
       "      <td>0.164972</td>\n",
       "      <td>0.334726</td>\n",
       "    </tr>\n",
       "    <tr>\n",
       "      <th>10</th>\n",
       "      <td>400</td>\n",
       "      <td>0.4</td>\n",
       "      <td>0.172442</td>\n",
       "      <td>0.263765</td>\n",
       "      <td>0.177959</td>\n",
       "      <td>0.250981</td>\n",
       "      <td>0.175864</td>\n",
       "      <td>0.246557</td>\n",
       "    </tr>\n",
       "    <tr>\n",
       "      <th>11</th>\n",
       "      <td>400</td>\n",
       "      <td>0.6</td>\n",
       "      <td>0.193130</td>\n",
       "      <td>0.287122</td>\n",
       "      <td>0.189927</td>\n",
       "      <td>0.300587</td>\n",
       "      <td>0.194322</td>\n",
       "      <td>0.280237</td>\n",
       "    </tr>\n",
       "    <tr>\n",
       "      <th>4</th>\n",
       "      <td>200</td>\n",
       "      <td>0.0</td>\n",
       "      <td>0.217374</td>\n",
       "      <td>0.218287</td>\n",
       "      <td>0.215840</td>\n",
       "      <td>0.241941</td>\n",
       "      <td>0.215560</td>\n",
       "      <td>0.221528</td>\n",
       "    </tr>\n",
       "    <tr>\n",
       "      <th>5</th>\n",
       "      <td>200</td>\n",
       "      <td>0.2</td>\n",
       "      <td>0.242968</td>\n",
       "      <td>0.206454</td>\n",
       "      <td>0.236229</td>\n",
       "      <td>0.227143</td>\n",
       "      <td>0.228749</td>\n",
       "      <td>0.242192</td>\n",
       "    </tr>\n",
       "    <tr>\n",
       "      <th>6</th>\n",
       "      <td>200</td>\n",
       "      <td>0.4</td>\n",
       "      <td>0.243753</td>\n",
       "      <td>0.276258</td>\n",
       "      <td>0.223037</td>\n",
       "      <td>0.333299</td>\n",
       "      <td>0.240001</td>\n",
       "      <td>0.252053</td>\n",
       "    </tr>\n",
       "    <tr>\n",
       "      <th>7</th>\n",
       "      <td>200</td>\n",
       "      <td>0.6</td>\n",
       "      <td>0.250244</td>\n",
       "      <td>0.260565</td>\n",
       "      <td>0.253837</td>\n",
       "      <td>0.284575</td>\n",
       "      <td>0.241698</td>\n",
       "      <td>0.292855</td>\n",
       "    </tr>\n",
       "    <tr>\n",
       "      <th>3</th>\n",
       "      <td>100</td>\n",
       "      <td>0.6</td>\n",
       "      <td>0.311131</td>\n",
       "      <td>0.537343</td>\n",
       "      <td>0.327844</td>\n",
       "      <td>0.346251</td>\n",
       "      <td>0.327670</td>\n",
       "      <td>0.354478</td>\n",
       "    </tr>\n",
       "    <tr>\n",
       "      <th>1</th>\n",
       "      <td>100</td>\n",
       "      <td>0.2</td>\n",
       "      <td>0.313116</td>\n",
       "      <td>0.393297</td>\n",
       "      <td>0.322902</td>\n",
       "      <td>0.339813</td>\n",
       "      <td>0.323772</td>\n",
       "      <td>0.314492</td>\n",
       "    </tr>\n",
       "    <tr>\n",
       "      <th>0</th>\n",
       "      <td>100</td>\n",
       "      <td>0.0</td>\n",
       "      <td>0.323284</td>\n",
       "      <td>0.298627</td>\n",
       "      <td>0.326649</td>\n",
       "      <td>0.283725</td>\n",
       "      <td>0.305678</td>\n",
       "      <td>0.332239</td>\n",
       "    </tr>\n",
       "    <tr>\n",
       "      <th>2</th>\n",
       "      <td>100</td>\n",
       "      <td>0.4</td>\n",
       "      <td>0.335154</td>\n",
       "      <td>0.317870</td>\n",
       "      <td>0.327917</td>\n",
       "      <td>0.331724</td>\n",
       "      <td>0.324951</td>\n",
       "      <td>0.353682</td>\n",
       "    </tr>\n",
       "  </tbody>\n",
       "</table>\n",
       "</div>"
      ],
      "text/plain": [
       "    epochs  lbd    Train1     Test1    Train2     Test2    Train3     Test3\n",
       "16    1000  0.0  0.067959  0.155180  0.075598  0.116720  0.090206  0.074216\n",
       "12     800  0.0  0.100081  0.086148  0.106082  0.065542  0.088386  0.141532\n",
       "17    1000  0.2  0.121054  0.177207  0.122764  0.167385  0.118023  0.196660\n",
       "13     800  0.2  0.128305  0.175486  0.105694  0.269259  0.133266  0.155003\n",
       "14     800  0.4  0.141451  0.292360  0.147427  0.269860  0.147616  0.264293\n",
       "18    1000  0.4  0.143002  0.272988  0.142686  0.277679  0.132157  0.326441\n",
       "8      400  0.0  0.149165  0.151839  0.141710  0.156632  0.148623  0.178536\n",
       "15     800  0.6  0.167343  0.328322  0.173400  0.303268  0.164007  0.346370\n",
       "9      400  0.2  0.169321  0.175571  0.169900  0.187782  0.172622  0.172421\n",
       "19    1000  0.6  0.170191  0.319979  0.165676  0.339699  0.164972  0.334726\n",
       "10     400  0.4  0.172442  0.263765  0.177959  0.250981  0.175864  0.246557\n",
       "11     400  0.6  0.193130  0.287122  0.189927  0.300587  0.194322  0.280237\n",
       "4      200  0.0  0.217374  0.218287  0.215840  0.241941  0.215560  0.221528\n",
       "5      200  0.2  0.242968  0.206454  0.236229  0.227143  0.228749  0.242192\n",
       "6      200  0.4  0.243753  0.276258  0.223037  0.333299  0.240001  0.252053\n",
       "7      200  0.6  0.250244  0.260565  0.253837  0.284575  0.241698  0.292855\n",
       "3      100  0.6  0.311131  0.537343  0.327844  0.346251  0.327670  0.354478\n",
       "1      100  0.2  0.313116  0.393297  0.322902  0.339813  0.323772  0.314492\n",
       "0      100  0.0  0.323284  0.298627  0.326649  0.283725  0.305678  0.332239\n",
       "2      100  0.4  0.335154  0.317870  0.327917  0.331724  0.324951  0.353682"
      ]
     },
     "execution_count": 29,
     "metadata": {},
     "output_type": "execute_result"
    }
   ],
   "source": [
    "df.sort_values(by=['Train1','Test1'])"
   ]
  },
  {
   "cell_type": "code",
   "execution_count": null,
   "metadata": {},
   "outputs": [],
   "source": []
  }
 ],
 "metadata": {
  "interpreter": {
   "hash": "84e5a2fd7e25c8bcf38508d69068628463a9d9ea1454c39f49bb2bfb5f0bb0bf"
  },
  "kernelspec": {
   "display_name": "Python 3",
   "language": "python",
   "name": "python3"
  },
  "language_info": {
   "codemirror_mode": {
    "name": "ipython",
    "version": 3
   },
   "file_extension": ".py",
   "mimetype": "text/x-python",
   "name": "python",
   "nbconvert_exporter": "python",
   "pygments_lexer": "ipython3",
   "version": "3.7.6"
  }
 },
 "nbformat": 4,
 "nbformat_minor": 2
}
